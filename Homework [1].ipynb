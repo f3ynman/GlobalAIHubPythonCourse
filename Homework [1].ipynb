{
 "cells": [
  {
   "cell_type": "code",
   "execution_count": 1,
   "id": "elementary-listening",
   "metadata": {},
   "outputs": [],
   "source": [
    "evens = []\n",
    "odds = []\n",
    "doubled = []"
   ]
  },
  {
   "cell_type": "code",
   "execution_count": 2,
   "id": "cardiovascular-elements",
   "metadata": {},
   "outputs": [
    {
     "name": "stdout",
     "output_type": "stream",
     "text": [
      "[0, 2, 4, 6, 8, 10, 12, 14, 16, 18]\n",
      "[1, 3, 5, 7, 9, 11, 13, 15, 17, 19]\n"
     ]
    }
   ],
   "source": [
    "for i in range(0, 10):\n",
    "    x = 2*i+1\n",
    "    y = 2*i\n",
    "    evens.append(y)\n",
    "    odds.append(x)            #also created both even and odd number lists using \"for\" loop, cause why not ?\n",
    "print(evens)\n",
    "print(odds)"
   ]
  },
  {
   "cell_type": "code",
   "execution_count": 3,
   "id": "welcome-bunch",
   "metadata": {},
   "outputs": [
    {
     "name": "stdout",
     "output_type": "stream",
     "text": [
      "[0, 2, 4, 6, 8, 10, 12, 14, 16, 18, 1, 3, 5, 7, 9, 11, 13, 15, 17, 19]\n",
      "[0, 4, 8, 12, 16, 20, 24, 28, 32, 36, 2, 6, 10, 14, 18, 22, 26, 30, 34, 38]\n"
     ]
    }
   ],
   "source": [
    "evens.extend(odds)            #\"evens\" list is including all even and odd items now\n",
    "print(evens)\n",
    "\n",
    "for i in evens:\n",
    "    i *= 2\n",
    "    doubled.append(i)         #all items in \"evens\" are multiplied with 2\n",
    "\n",
    "print(doubled)"
   ]
  },
  {
   "cell_type": "code",
   "execution_count": 4,
   "id": "arranged-startup",
   "metadata": {},
   "outputs": [
    {
     "name": "stdout",
     "output_type": "stream",
     "text": [
      "Type of the item in index[0] is: <class 'int'>\n",
      "Type of the item in index[1] is: <class 'int'>\n",
      "Type of the item in index[2] is: <class 'int'>\n",
      "Type of the item in index[3] is: <class 'int'>\n",
      "Type of the item in index[4] is: <class 'int'>\n",
      "Type of the item in index[5] is: <class 'int'>\n",
      "Type of the item in index[6] is: <class 'int'>\n",
      "Type of the item in index[7] is: <class 'int'>\n",
      "Type of the item in index[8] is: <class 'int'>\n",
      "Type of the item in index[9] is: <class 'int'>\n",
      "Type of the item in index[10] is: <class 'int'>\n",
      "Type of the item in index[11] is: <class 'int'>\n",
      "Type of the item in index[12] is: <class 'int'>\n",
      "Type of the item in index[13] is: <class 'int'>\n",
      "Type of the item in index[14] is: <class 'int'>\n",
      "Type of the item in index[15] is: <class 'int'>\n",
      "Type of the item in index[16] is: <class 'int'>\n",
      "Type of the item in index[17] is: <class 'int'>\n",
      "Type of the item in index[18] is: <class 'int'>\n",
      "Type of the item in index[19] is: <class 'int'>\n"
     ]
    }
   ],
   "source": [
    "for i in doubled:\n",
    "    index = doubled.index(i)\n",
    "    print(\"Type of the item in index[\" + str(index) + \"] is: \" + str(type(i))) #all items are integers, as expected\n",
    "    "
   ]
  },
  {
   "cell_type": "code",
   "execution_count": null,
   "id": "selective-guatemala",
   "metadata": {},
   "outputs": [],
   "source": []
  }
 ],
 "metadata": {
  "kernelspec": {
   "display_name": "Python 3",
   "language": "python",
   "name": "python3"
  },
  "language_info": {
   "codemirror_mode": {
    "name": "ipython",
    "version": 3
   },
   "file_extension": ".py",
   "mimetype": "text/x-python",
   "name": "python",
   "nbconvert_exporter": "python",
   "pygments_lexer": "ipython3",
   "version": "3.9.2"
  }
 },
 "nbformat": 4,
 "nbformat_minor": 5
}
